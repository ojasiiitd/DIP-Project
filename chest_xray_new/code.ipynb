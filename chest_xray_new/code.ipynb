{
 "cells": [
  {
   "cell_type": "markdown",
   "metadata": {},
   "source": [
    "## Importing required libraries"
   ]
  },
  {
   "cell_type": "code",
   "execution_count": 8,
   "metadata": {},
   "outputs": [],
   "source": [
    "import os\n",
    "import cv2\n",
    "import numpy as np\n",
    "import pandas as pd\n",
    "import matplotlib.pyplot as plt\n",
    "import tensorflow as tf\n",
    "from keras.models import Sequential\n",
    "from keras.layers import Dense , Conv2D , MaxPooling2D , AveragePooling2D , Flatten , Dropout , BatchNormalization\n",
    "from keras.preprocessing.image import ImageDataGenerator , load_img , img_to_array\n",
    "from keras import backend"
   ]
  },
  {
   "cell_type": "code",
   "execution_count": 9,
   "metadata": {},
   "outputs": [],
   "source": [
    "train_path = \"train/\"\n",
    "val_path = \"val/\"\n",
    "test_path = \"test/\"\n",
    "\n",
    "image_w = 128\n",
    "image_h = 128\n",
    "stride = (3,3)\n",
    "pool = (2,2)\n",
    "batch_size = 100\n",
    "if backend.image_data_format() == \"channels_first\":\n",
    "    input_shape = (3 , image_w , image_h)\n",
    "else:\n",
    "    input_shape = (image_w , image_h , 3)"
   ]
  },
  {
   "cell_type": "markdown",
   "metadata": {},
   "source": [
    "## Training image augmentation and generation"
   ]
  },
  {
   "cell_type": "code",
   "execution_count": 12,
   "metadata": {},
   "outputs": [
    {
     "name": "stdout",
     "output_type": "stream",
     "text": [
      "Found 1600 images belonging to 2 classes.\n"
     ]
    },
    {
     "data": {
      "text/plain": [
       "{'NORMAL': 0, 'PNEUMONIA': 1}"
      ]
     },
     "execution_count": 12,
     "metadata": {},
     "output_type": "execute_result"
    }
   ],
   "source": [
    "train_datagen = ImageDataGenerator(\n",
    "    rescale=1./255,\n",
    "    rotation_range=10,\n",
    "    zoom_range=0.2,\n",
    "    shear_range=0.2\n",
    ")\n",
    "train_generator = train_datagen.flow_from_directory(\n",
    "    train_path,\n",
    "    target_size=(image_w , image_h),\n",
    "    batch_size=batch_size,\n",
    "    class_mode=\"binary\"\n",
    ")\n",
    "train_generator.class_indices"
   ]
  },
  {
   "cell_type": "code",
   "execution_count": 13,
   "metadata": {
    "scrolled": true
   },
   "outputs": [
    {
     "name": "stdout",
     "output_type": "stream",
     "text": [
      "Found 16 images belonging to 2 classes.\n"
     ]
    },
    {
     "data": {
      "text/plain": [
       "{'NORMAL': 0, 'PNEUMONIA': 1}"
      ]
     },
     "execution_count": 13,
     "metadata": {},
     "output_type": "execute_result"
    }
   ],
   "source": [
    "val_datagen = ImageDataGenerator(rescale=1./255)\n",
    "\n",
    "val_generator = val_datagen.flow_from_directory(\n",
    "    val_path,\n",
    "    target_size=(image_w , image_h),\n",
    "    batch_size=batch_size,\n",
    "    class_mode=\"binary\"\n",
    ")\n",
    "val_generator.class_indices"
   ]
  },
  {
   "cell_type": "markdown",
   "metadata": {},
   "source": [
    "## Testing image generation"
   ]
  },
  {
   "cell_type": "code",
   "execution_count": 14,
   "metadata": {},
   "outputs": [
    {
     "name": "stdout",
     "output_type": "stream",
     "text": [
      "Found 350 images belonging to 2 classes.\n"
     ]
    },
    {
     "data": {
      "text/plain": [
       "{'NORMAL': 0, 'PNEUMONIA': 1}"
      ]
     },
     "execution_count": 14,
     "metadata": {},
     "output_type": "execute_result"
    }
   ],
   "source": [
    "test_datagen = ImageDataGenerator(rescale=1./255)\n",
    "\n",
    "test_generator = test_datagen.flow_from_directory(\n",
    "    test_path,\n",
    "    target_size=(image_w , image_h),\n",
    "    batch_size=batch_size,\n",
    "    class_mode=\"binary\"\n",
    ")\n",
    "test_generator.class_indices"
   ]
  },
  {
   "cell_type": "markdown",
   "metadata": {},
   "source": [
    "## Creating the deep learning model"
   ]
  },
  {
   "cell_type": "code",
   "execution_count": 15,
   "metadata": {},
   "outputs": [
    {
     "name": "stdout",
     "output_type": "stream",
     "text": [
      "Model: \"sequential_1\"\n",
      "_________________________________________________________________\n",
      "Layer (type)                 Output Shape              Param #   \n",
      "=================================================================\n",
      "conv2d_4 (Conv2D)            (None, 128, 128, 32)      896       \n",
      "_________________________________________________________________\n",
      "max_pooling2d_4 (MaxPooling2 (None, 64, 64, 32)        0         \n",
      "_________________________________________________________________\n",
      "conv2d_5 (Conv2D)            (None, 64, 64, 64)        18496     \n",
      "_________________________________________________________________\n",
      "max_pooling2d_5 (MaxPooling2 (None, 32, 32, 64)        0         \n",
      "_________________________________________________________________\n",
      "conv2d_6 (Conv2D)            (None, 32, 32, 128)       73856     \n",
      "_________________________________________________________________\n",
      "max_pooling2d_6 (MaxPooling2 (None, 16, 16, 128)       0         \n",
      "_________________________________________________________________\n",
      "conv2d_7 (Conv2D)            (None, 16, 16, 128)       147584    \n",
      "_________________________________________________________________\n",
      "max_pooling2d_7 (MaxPooling2 (None, 8, 8, 128)         0         \n",
      "_________________________________________________________________\n",
      "flatten_1 (Flatten)          (None, 8192)              0         \n",
      "_________________________________________________________________\n",
      "dropout_1 (Dropout)          (None, 8192)              0         \n",
      "_________________________________________________________________\n",
      "dense_2 (Dense)              (None, 512)               4194816   \n",
      "_________________________________________________________________\n",
      "dense_3 (Dense)              (None, 1)                 513       \n",
      "=================================================================\n",
      "Total params: 4,436,161\n",
      "Trainable params: 4,436,161\n",
      "Non-trainable params: 0\n",
      "_________________________________________________________________\n"
     ]
    }
   ],
   "source": [
    "model = Sequential()\n",
    "\n",
    "model.add( Conv2D(32 , stride , padding=\"same\" , activation=\"relu\" , input_shape=input_shape) )\n",
    "model.add( MaxPooling2D(pool_size=pool) )\n",
    "\n",
    "model.add( Conv2D(64 , stride , padding=\"same\" , activation=\"relu\") )\n",
    "model.add( MaxPooling2D(pool_size=pool) )\n",
    "\n",
    "model.add( Conv2D(128 , stride , padding=\"same\" , activation=\"relu\") )\n",
    "model.add( MaxPooling2D(pool_size=pool) )\n",
    "\n",
    "model.add( Conv2D(128 , stride , padding=\"same\" , activation=\"relu\") )\n",
    "model.add( MaxPooling2D(pool_size=pool) )\n",
    "\n",
    "model.add( Flatten() )\n",
    "\n",
    "model.add( Dropout(.5) )\n",
    "\n",
    "model.add( Dense(512 , activation=\"relu\") )\n",
    "\n",
    "model.add( Dense(1 , activation=\"sigmoid\") )\n",
    "\n",
    "model.compile(optimizer=\"rmsprop\" , loss=\"binary_crossentropy\" , metrics=[\"accuracy\"])\n",
    "\n",
    "model.summary()"
   ]
  },
  {
   "cell_type": "markdown",
   "metadata": {},
   "source": [
    "## Fitting training data (batch size = 100)"
   ]
  },
  {
   "cell_type": "code",
   "execution_count": 16,
   "metadata": {
    "scrolled": true
   },
   "outputs": [
    {
     "name": "stdout",
     "output_type": "stream",
     "text": [
      "WARNING:tensorflow:From <ipython-input-16-1cd6cf9ef7c8>:4: Model.fit_generator (from tensorflow.python.keras.engine.training) is deprecated and will be removed in a future version.\n",
      "Instructions for updating:\n",
      "Please use Model.fit, which supports generators.\n",
      "Epoch 1/50\n",
      "16/16 [==============================] - 50s 3s/step - loss: 1.0771 - accuracy: 0.5825 - val_loss: 0.8142 - val_accuracy: 0.7143\n",
      "Epoch 2/50\n",
      "16/16 [==============================] - 49s 3s/step - loss: 0.6629 - accuracy: 0.6637 - val_loss: 0.6191 - val_accuracy: 0.7143\n",
      "Epoch 3/50\n",
      "16/16 [==============================] - 48s 3s/step - loss: 0.6226 - accuracy: 0.7113 - val_loss: 0.7202 - val_accuracy: 0.4886\n",
      "Epoch 4/50\n",
      "16/16 [==============================] - 49s 3s/step - loss: 0.5821 - accuracy: 0.7125 - val_loss: 0.6075 - val_accuracy: 0.7086\n",
      "Epoch 5/50\n",
      "16/16 [==============================] - 48s 3s/step - loss: 0.5178 - accuracy: 0.7738 - val_loss: 0.6179 - val_accuracy: 0.6886\n",
      "Epoch 6/50\n",
      "16/16 [==============================] - 61s 4s/step - loss: 0.5347 - accuracy: 0.7638 - val_loss: 0.6143 - val_accuracy: 0.7143\n",
      "Epoch 7/50\n",
      "16/16 [==============================] - 47s 3s/step - loss: 0.4570 - accuracy: 0.8062 - val_loss: 0.5727 - val_accuracy: 0.7143\n",
      "Epoch 8/50\n",
      "16/16 [==============================] - 51s 3s/step - loss: 0.5348 - accuracy: 0.7725 - val_loss: 0.5933 - val_accuracy: 0.7114\n",
      "Epoch 9/50\n",
      "16/16 [==============================] - 47s 3s/step - loss: 0.4195 - accuracy: 0.8313 - val_loss: 0.7308 - val_accuracy: 0.7143\n",
      "Epoch 10/50\n",
      "16/16 [==============================] - 46s 3s/step - loss: 0.3996 - accuracy: 0.8331 - val_loss: 0.6443 - val_accuracy: 0.6886\n",
      "Epoch 11/50\n",
      "16/16 [==============================] - 47s 3s/step - loss: 0.4566 - accuracy: 0.8094 - val_loss: 0.5854 - val_accuracy: 0.6800\n",
      "Epoch 12/50\n",
      "16/16 [==============================] - 48s 3s/step - loss: 0.3827 - accuracy: 0.8475 - val_loss: 0.8670 - val_accuracy: 0.3143\n",
      "Epoch 13/50\n",
      "16/16 [==============================] - 44s 3s/step - loss: 0.4133 - accuracy: 0.8375 - val_loss: 0.5730 - val_accuracy: 0.7057\n",
      "Epoch 14/50\n",
      "16/16 [==============================] - 50s 3s/step - loss: 0.3627 - accuracy: 0.8637 - val_loss: 0.7497 - val_accuracy: 0.7143\n",
      "Epoch 15/50\n",
      "16/16 [==============================] - 46s 3s/step - loss: 0.3729 - accuracy: 0.8400 - val_loss: 0.7402 - val_accuracy: 0.7143\n",
      "Epoch 16/50\n",
      "16/16 [==============================] - 51s 3s/step - loss: 0.4167 - accuracy: 0.8300 - val_loss: 0.5637 - val_accuracy: 0.6857\n",
      "Epoch 17/50\n",
      "16/16 [==============================] - 50s 3s/step - loss: 0.3541 - accuracy: 0.8500 - val_loss: 0.6349 - val_accuracy: 0.7000\n",
      "Epoch 18/50\n",
      "16/16 [==============================] - 52s 3s/step - loss: 0.3479 - accuracy: 0.8587 - val_loss: 0.5472 - val_accuracy: 0.7257\n",
      "Epoch 19/50\n",
      "16/16 [==============================] - 46s 3s/step - loss: 0.3519 - accuracy: 0.8587 - val_loss: 0.6240 - val_accuracy: 0.7057\n",
      "Epoch 20/50\n",
      "16/16 [==============================] - 47s 3s/step - loss: 0.3175 - accuracy: 0.8813 - val_loss: 0.5612 - val_accuracy: 0.7114\n",
      "Epoch 21/50\n",
      "16/16 [==============================] - 44s 3s/step - loss: 0.3315 - accuracy: 0.8594 - val_loss: 0.7038 - val_accuracy: 0.7257\n",
      "Epoch 22/50\n",
      "16/16 [==============================] - 43s 3s/step - loss: 0.3978 - accuracy: 0.8525 - val_loss: 0.6255 - val_accuracy: 0.7029\n",
      "Epoch 23/50\n",
      "16/16 [==============================] - 53s 3s/step - loss: 0.3267 - accuracy: 0.8731 - val_loss: 0.7006 - val_accuracy: 0.7114\n",
      "Epoch 24/50\n",
      "16/16 [==============================] - 52s 3s/step - loss: 0.2981 - accuracy: 0.8906 - val_loss: 0.8220 - val_accuracy: 0.7114\n",
      "Epoch 25/50\n",
      "16/16 [==============================] - 48s 3s/step - loss: 0.3128 - accuracy: 0.8769 - val_loss: 0.5507 - val_accuracy: 0.7257\n",
      "Epoch 26/50\n",
      "16/16 [==============================] - 49s 3s/step - loss: 0.2990 - accuracy: 0.8756 - val_loss: 0.7668 - val_accuracy: 0.7143\n",
      "Epoch 27/50\n",
      "16/16 [==============================] - 47s 3s/step - loss: 0.2984 - accuracy: 0.8900 - val_loss: 0.5807 - val_accuracy: 0.7514\n",
      "Epoch 28/50\n",
      "16/16 [==============================] - 60s 4s/step - loss: 0.2941 - accuracy: 0.8888 - val_loss: 0.6278 - val_accuracy: 0.7114\n",
      "Epoch 29/50\n",
      "16/16 [==============================] - 57s 4s/step - loss: 0.3050 - accuracy: 0.8794 - val_loss: 0.7186 - val_accuracy: 0.7114\n",
      "Epoch 30/50\n",
      "16/16 [==============================] - 75s 5s/step - loss: 0.2791 - accuracy: 0.8988 - val_loss: 0.5820 - val_accuracy: 0.7143\n",
      "Epoch 31/50\n",
      "16/16 [==============================] - 68s 4s/step - loss: 0.3509 - accuracy: 0.8694 - val_loss: 0.5487 - val_accuracy: 0.7229\n",
      "Epoch 32/50\n",
      "16/16 [==============================] - 57s 4s/step - loss: 0.2671 - accuracy: 0.8994 - val_loss: 0.7517 - val_accuracy: 0.7229\n",
      "Epoch 33/50\n",
      "16/16 [==============================] - 58s 4s/step - loss: 0.2667 - accuracy: 0.8950 - val_loss: 0.8341 - val_accuracy: 0.7143\n",
      "Epoch 34/50\n",
      "16/16 [==============================] - 58s 4s/step - loss: 0.2995 - accuracy: 0.8869 - val_loss: 0.5892 - val_accuracy: 0.6914\n",
      "Epoch 35/50\n",
      "16/16 [==============================] - 55s 3s/step - loss: 0.2535 - accuracy: 0.9031 - val_loss: 0.6287 - val_accuracy: 0.7143\n",
      "Epoch 36/50\n",
      "16/16 [==============================] - 55s 3s/step - loss: 0.2695 - accuracy: 0.8919 - val_loss: 0.6240 - val_accuracy: 0.7086\n",
      "Epoch 37/50\n",
      "16/16 [==============================] - 61s 4s/step - loss: 0.2752 - accuracy: 0.8831 - val_loss: 0.7089 - val_accuracy: 0.7086\n",
      "Epoch 38/50\n",
      "16/16 [==============================] - 58s 4s/step - loss: 0.2580 - accuracy: 0.9031 - val_loss: 0.9988 - val_accuracy: 0.7057\n",
      "Epoch 39/50\n",
      "16/16 [==============================] - 62s 4s/step - loss: 0.2839 - accuracy: 0.8894 - val_loss: 0.6094 - val_accuracy: 0.7143\n",
      "Epoch 40/50\n",
      "16/16 [==============================] - 49s 3s/step - loss: 0.2487 - accuracy: 0.9038 - val_loss: 0.4943 - val_accuracy: 0.7257\n",
      "Epoch 41/50\n",
      "16/16 [==============================] - 52s 3s/step - loss: 0.2624 - accuracy: 0.8969 - val_loss: 0.5508 - val_accuracy: 0.7343\n",
      "Epoch 42/50\n",
      "16/16 [==============================] - 51s 3s/step - loss: 0.2407 - accuracy: 0.9069 - val_loss: 0.5750 - val_accuracy: 0.7086\n",
      "Epoch 43/50\n",
      "16/16 [==============================] - 51s 3s/step - loss: 0.2640 - accuracy: 0.9106 - val_loss: 0.5142 - val_accuracy: 0.7029\n",
      "Epoch 44/50\n",
      "16/16 [==============================] - 58s 4s/step - loss: 0.2592 - accuracy: 0.8931 - val_loss: 0.5220 - val_accuracy: 0.7000\n",
      "Epoch 45/50\n",
      "16/16 [==============================] - 70s 4s/step - loss: 0.2597 - accuracy: 0.8988 - val_loss: 0.5084 - val_accuracy: 0.6914\n",
      "Epoch 46/50\n",
      "16/16 [==============================] - 71s 4s/step - loss: 0.2450 - accuracy: 0.9050 - val_loss: 0.4693 - val_accuracy: 0.7257\n",
      "Epoch 47/50\n",
      "16/16 [==============================] - 62s 4s/step - loss: 0.2363 - accuracy: 0.9056 - val_loss: 0.5451 - val_accuracy: 0.7000\n",
      "Epoch 48/50\n",
      "16/16 [==============================] - 69s 4s/step - loss: 0.2358 - accuracy: 0.9137 - val_loss: 1.0896 - val_accuracy: 0.7057\n",
      "Epoch 49/50\n",
      "16/16 [==============================] - 72s 4s/step - loss: 0.2243 - accuracy: 0.9175 - val_loss: 0.5827 - val_accuracy: 0.7114\n",
      "Epoch 50/50\n",
      "16/16 [==============================] - 58s 4s/step - loss: 0.2408 - accuracy: 0.9187 - val_loss: 0.6312 - val_accuracy: 0.7057\n"
     ]
    }
   ],
   "source": [
    "history = model.fit_generator(\n",
    "    train_generator,\n",
    "    epochs=50,\n",
    "    validation_data=test_generator,\n",
    ")"
   ]
  },
  {
   "cell_type": "code",
   "execution_count": 17,
   "metadata": {
    "scrolled": true
   },
   "outputs": [
    {
     "name": "stdout",
     "output_type": "stream",
     "text": [
      "WARNING:tensorflow:From <ipython-input-17-c274a446cb83>:1: Model.evaluate_generator (from tensorflow.python.keras.engine.training) is deprecated and will be removed in a future version.\n",
      "Instructions for updating:\n",
      "Please use Model.evaluate, which supports generators.\n",
      "4/4 [==============================] - 3s 660ms/step - loss: 0.6312 - accuracy: 0.7057\n"
     ]
    },
    {
     "data": {
      "text/plain": [
       "(0.6312349438667297, 0.7057142853736877)"
      ]
     },
     "execution_count": 17,
     "metadata": {},
     "output_type": "execute_result"
    }
   ],
   "source": [
    "loss, acc = model.evaluate_generator(test_generator , verbose=1)\n",
    "# model.save(\"unsharp_10epochs.h5\")\n",
    "loss , acc"
   ]
  },
  {
   "cell_type": "markdown",
   "metadata": {},
   "source": [
    "## Plotting accuracy and loss"
   ]
  },
  {
   "cell_type": "code",
   "execution_count": 19,
   "metadata": {
    "scrolled": true
   },
   "outputs": [
    {
     "data": {
      "image/png": "[encoded data removed]",
      "text/plain": [
       "<Figure size 432x288 with 1 Axes>"
      ]
     },
     "metadata": {
      "needs_background": "light"
     },
     "output_type": "display_data"
    },
    {
     "data": {
      "image/png": "[encoded data removed]",
      "text/plain": [
       "<Figure size 432x288 with 1 Axes>"
      ]
     },
     "metadata": {
      "needs_background": "light"
     },
     "output_type": "display_data"
    }
   ],
   "source": [
    "plt.plot(history.history['accuracy'])\n",
    "plt.plot(history.history['val_accuracy'])\n",
    "plt.title('model accuracy')\n",
    "plt.ylabel('accuracy')\n",
    "plt.xlabel('epoch')\n",
    "plt.legend(['train', 'val'], loc='lower right')\n",
    "plt.savefig(\"15pochs_acc.jpg\")\n",
    "plt.show()\n",
    "\n",
    "plt.plot(history.history['loss'])\n",
    "plt.plot(history.history['val_loss'])\n",
    "plt.title('model loss')\n",
    "plt.ylabel('loss')\n",
    "plt.xlabel('epoch')\n",
    "plt.legend(['train', 'val'], loc='upper right')\n",
    "plt.savefig(\"15pochs_loss.jpg\")\n",
    "plt.show()"
   ]
  },
  {
   "cell_type": "code",
   "execution_count": null,
   "metadata": {},
   "outputs": [],
   "source": []
  }
 ],
 "metadata": {
  "kernelspec": {
   "display_name": "jupyterenv",
   "language": "python3",
   "name": "jupyterenv"
  },
  "language_info": {
   "codemirror_mode": {
    "name": "ipython",
    "version": 3
   },
   "file_extension": ".py",
   "mimetype": "text/x-python",
   "name": "python",
   "nbconvert_exporter": "python",
   "pygments_lexer": "ipython3",
   "version": "3.6.9"
  }
 },
 "nbformat": 4,
 "nbformat_minor": 2
}
