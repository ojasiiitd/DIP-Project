{
 "cells": [
  {
   "cell_type": "code",
   "execution_count": 1,
   "metadata": {},
   "outputs": [],
   "source": [
    "import os\n",
    "import cv2\n",
    "import numpy as np\n",
    "import pandas as pd\n",
    "import matplotlib.pyplot as plt\n",
    "import tensorflow as tf\n",
    "from keras.models import Sequential\n",
    "from keras.layers import Dense , Conv2D , MaxPooling2D , AveragePooling2D , Flatten , Dropout , BatchNormalization\n",
    "from keras.preprocessing.image import ImageDataGenerator , load_img , img_to_array\n",
    "from keras import backend"
   ]
  },
  {
   "cell_type": "code",
   "execution_count": 2,
   "metadata": {},
   "outputs": [],
   "source": [
    "train_path = \"train/\"\n",
    "val_path = \"val/\"\n",
    "test_path = \"test/\"\n",
    "\n",
    "image_w = 128\n",
    "image_h = 128\n",
    "stride = (3,3)\n",
    "pool = (2,2)\n",
    "batch_size = 100\n",
    "if backend.image_data_format() == \"channels_first\":\n",
    "    input_shape = (3 , image_w , image_h)\n",
    "else:\n",
    "    input_shape = (image_w , image_h , 3)"
   ]
  },
  {
   "cell_type": "code",
   "execution_count": 3,
   "metadata": {},
   "outputs": [],
   "source": [
    "train_datagen = ImageDataGenerator(\n",
    "    rescale=1./255,\n",
    "    width_shift_range=0.6,\n",
    "    height_shift_range=0.6,\n",
    "    vertical_flip=True,\n",
    ")"
   ]
  },
  {
   "cell_type": "code",
   "execution_count": 4,
   "metadata": {},
   "outputs": [
    {
     "name": "stdout",
     "output_type": "stream",
     "text": [
      "Found 1600 images belonging to 2 classes.\n"
     ]
    },
    {
     "data": {
      "text/plain": [
       "{'NORMAL': 0, 'PNEUMONIA': 1}"
      ]
     },
     "execution_count": 4,
     "metadata": {},
     "output_type": "execute_result"
    }
   ],
   "source": [
    "train_generator = train_datagen.flow_from_directory(\n",
    "    train_path,\n",
    "    target_size=(image_w , image_h),\n",
    "    batch_size=batch_size,\n",
    "    class_mode=\"binary\"\n",
    ")\n",
    "train_generator.class_indices"
   ]
  },
  {
   "cell_type": "code",
   "execution_count": 5,
   "metadata": {},
   "outputs": [
    {
     "name": "stdout",
     "output_type": "stream",
     "text": [
      "Found 16 images belonging to 2 classes.\n"
     ]
    },
    {
     "data": {
      "text/plain": [
       "{'NORMAL': 0, 'PNEUMONIA': 1}"
      ]
     },
     "execution_count": 5,
     "metadata": {},
     "output_type": "execute_result"
    }
   ],
   "source": [
    "val_datagen = ImageDataGenerator(rescale=1./255)\n",
    "\n",
    "val_generator = val_datagen.flow_from_directory(\n",
    "    val_path,\n",
    "    target_size=(image_w , image_h),\n",
    "    batch_size=batch_size,\n",
    "    class_mode=\"binary\"\n",
    ")\n",
    "val_generator.class_indices"
   ]
  },
  {
   "cell_type": "code",
   "execution_count": 6,
   "metadata": {},
   "outputs": [
    {
     "name": "stdout",
     "output_type": "stream",
     "text": [
      "Found 350 images belonging to 2 classes.\n"
     ]
    },
    {
     "data": {
      "text/plain": [
       "{'NORMAL': 0, 'PNEUMONIA': 1}"
      ]
     },
     "execution_count": 6,
     "metadata": {},
     "output_type": "execute_result"
    }
   ],
   "source": [
    "test_datagen = ImageDataGenerator(rescale=1./255)\n",
    "\n",
    "test_generator = test_datagen.flow_from_directory(\n",
    "    test_path,\n",
    "    target_size=(image_w , image_h),\n",
    "    batch_size=batch_size,\n",
    "    class_mode=\"binary\"\n",
    ")\n",
    "test_generator.class_indices"
   ]
  },
  {
   "cell_type": "code",
   "execution_count": 7,
   "metadata": {},
   "outputs": [
    {
     "name": "stdout",
     "output_type": "stream",
     "text": [
      "Model: \"sequential\"\n",
      "_________________________________________________________________\n",
      "Layer (type)                 Output Shape              Param #   \n",
      "=================================================================\n",
      "conv2d (Conv2D)              (None, 128, 128, 32)      896       \n",
      "_________________________________________________________________\n",
      "max_pooling2d (MaxPooling2D) (None, 64, 64, 32)        0         \n",
      "_________________________________________________________________\n",
      "conv2d_1 (Conv2D)            (None, 64, 64, 64)        18496     \n",
      "_________________________________________________________________\n",
      "max_pooling2d_1 (MaxPooling2 (None, 32, 32, 64)        0         \n",
      "_________________________________________________________________\n",
      "conv2d_2 (Conv2D)            (None, 32, 32, 128)       73856     \n",
      "_________________________________________________________________\n",
      "max_pooling2d_2 (MaxPooling2 (None, 16, 16, 128)       0         \n",
      "_________________________________________________________________\n",
      "conv2d_3 (Conv2D)            (None, 16, 16, 128)       147584    \n",
      "_________________________________________________________________\n",
      "max_pooling2d_3 (MaxPooling2 (None, 8, 8, 128)         0         \n",
      "_________________________________________________________________\n",
      "flatten (Flatten)            (None, 8192)              0         \n",
      "_________________________________________________________________\n",
      "dropout (Dropout)            (None, 8192)              0         \n",
      "_________________________________________________________________\n",
      "dense (Dense)                (None, 512)               4194816   \n",
      "_________________________________________________________________\n",
      "dense_1 (Dense)              (None, 1)                 513       \n",
      "=================================================================\n",
      "Total params: 4,436,161\n",
      "Trainable params: 4,436,161\n",
      "Non-trainable params: 0\n",
      "_________________________________________________________________\n"
     ]
    }
   ],
   "source": [
    "model = Sequential()\n",
    "\n",
    "model.add( Conv2D(32 , stride , padding=\"same\" , activation=\"relu\" , input_shape=input_shape) )\n",
    "model.add( MaxPooling2D(pool_size=pool) )\n",
    "\n",
    "model.add( Conv2D(64 , stride , padding=\"same\" , activation=\"relu\") )\n",
    "model.add( MaxPooling2D(pool_size=pool) )\n",
    "\n",
    "model.add( Conv2D(128 , stride , padding=\"same\" , activation=\"relu\") )\n",
    "model.add( MaxPooling2D(pool_size=pool) )\n",
    "\n",
    "model.add( Conv2D(128 , stride , padding=\"same\" , activation=\"relu\") )\n",
    "model.add( MaxPooling2D(pool_size=pool) )\n",
    "\n",
    "model.add( Flatten() )\n",
    "\n",
    "model.add( Dropout(.5) )\n",
    "\n",
    "model.add( Dense(512 , activation=\"relu\") )\n",
    "\n",
    "model.add( Dense(1 , activation=\"sigmoid\") )\n",
    "\n",
    "model.compile(optimizer=\"rmsprop\" , loss=\"binary_crossentropy\" , metrics=[\"accuracy\"])\n",
    "\n",
    "model.summary()"
   ]
  },
  {
   "cell_type": "code",
   "execution_count": 8,
   "metadata": {
    "scrolled": true
   },
   "outputs": [
    {
     "name": "stdout",
     "output_type": "stream",
     "text": [
      "WARNING:tensorflow:From <ipython-input-8-6f7ad2de3a4f>:4: Model.fit_generator (from tensorflow.python.keras.engine.training) is deprecated and will be removed in a future version.\n",
      "Instructions for updating:\n",
      "Please use Model.fit, which supports generators.\n",
      "Epoch 1/15\n",
      "16/16 [==============================] - 51s 3s/step - loss: 0.8040 - accuracy: 0.6056 - val_loss: 0.6201 - val_accuracy: 0.7143\n",
      "Epoch 2/15\n",
      "16/16 [==============================] - 47s 3s/step - loss: 0.6571 - accuracy: 0.6469 - val_loss: 0.6127 - val_accuracy: 0.6829\n",
      "Epoch 3/15\n",
      "16/16 [==============================] - 48s 3s/step - loss: 0.6406 - accuracy: 0.6325 - val_loss: 0.6893 - val_accuracy: 0.6657\n",
      "Epoch 4/15\n",
      "16/16 [==============================] - 48s 3s/step - loss: 0.5667 - accuracy: 0.7212 - val_loss: 0.5925 - val_accuracy: 0.6771\n",
      "Epoch 5/15\n",
      "16/16 [==============================] - 45s 3s/step - loss: 0.5247 - accuracy: 0.7644 - val_loss: 0.5781 - val_accuracy: 0.6571\n",
      "Epoch 6/15\n",
      "16/16 [==============================] - 45s 3s/step - loss: 0.5109 - accuracy: 0.7738 - val_loss: 1.1025 - val_accuracy: 0.7143\n",
      "Epoch 7/15\n",
      "16/16 [==============================] - 53s 3s/step - loss: 0.5041 - accuracy: 0.7831 - val_loss: 0.5483 - val_accuracy: 0.6686\n",
      "Epoch 8/15\n",
      "16/16 [==============================] - 47s 3s/step - loss: 0.4386 - accuracy: 0.8356 - val_loss: 0.6005 - val_accuracy: 0.7057\n",
      "Epoch 9/15\n",
      "16/16 [==============================] - 52s 3s/step - loss: 0.4060 - accuracy: 0.8425 - val_loss: 0.5641 - val_accuracy: 0.6886\n",
      "Epoch 10/15\n",
      "16/16 [==============================] - 60s 4s/step - loss: 0.3879 - accuracy: 0.8644 - val_loss: 0.5324 - val_accuracy: 0.7143\n",
      "Epoch 11/15\n",
      "16/16 [==============================] - 48s 3s/step - loss: 0.3584 - accuracy: 0.8625 - val_loss: 0.7204 - val_accuracy: 0.7057\n",
      "Epoch 12/15\n",
      "16/16 [==============================] - 53s 3s/step - loss: 0.3636 - accuracy: 0.8550 - val_loss: 0.5771 - val_accuracy: 0.6943\n",
      "Epoch 13/15\n",
      "16/16 [==============================] - 50s 3s/step - loss: 0.3237 - accuracy: 0.8806 - val_loss: 0.6058 - val_accuracy: 0.7029\n",
      "Epoch 14/15\n",
      "16/16 [==============================] - 60s 4s/step - loss: 0.3328 - accuracy: 0.8819 - val_loss: 0.5575 - val_accuracy: 0.7143\n",
      "Epoch 15/15\n",
      "16/16 [==============================] - 53s 3s/step - loss: 0.4756 - accuracy: 0.8531 - val_loss: 0.5782 - val_accuracy: 0.7086\n"
     ]
    }
   ],
   "source": [
    "history = model.fit_generator(\n",
    "    train_generator,\n",
    "    epochs=15,\n",
    "    validation_data=test_generator,\n",
    ")"
   ]
  },
  {
   "cell_type": "code",
   "execution_count": 9,
   "metadata": {
    "scrolled": true
   },
   "outputs": [
    {
     "name": "stdout",
     "output_type": "stream",
     "text": [
      "WARNING:tensorflow:From <ipython-input-9-c274a446cb83>:1: Model.evaluate_generator (from tensorflow.python.keras.engine.training) is deprecated and will be removed in a future version.\n",
      "Instructions for updating:\n",
      "Please use Model.evaluate, which supports generators.\n",
      "4/4 [==============================] - 3s 645ms/step - loss: 0.5782 - accuracy: 0.7086\n"
     ]
    },
    {
     "data": {
      "text/plain": [
       "(0.578156590461731, 0.7085714340209961)"
      ]
     },
     "execution_count": 9,
     "metadata": {},
     "output_type": "execute_result"
    }
   ],
   "source": [
    "loss, acc = model.evaluate_generator(test_generator , verbose=1)\n",
    "# model.save(\"unsharp_10epochs.h5\")\n",
    "loss , acc"
   ]
  },
  {
   "cell_type": "code",
   "execution_count": 10,
   "metadata": {
    "scrolled": true
   },
   "outputs": [
    {
     "data": {
      "image/png": "[encoded data removed]",
      "text/plain": [
       "<Figure size 432x288 with 1 Axes>"
      ]
     },
     "metadata": {
      "needs_background": "light"
     },
     "output_type": "display_data"
    },
    {
     "data": {
      "image/png": "[encoded data removed]",
      "text/plain": [
       "<Figure size 432x288 with 1 Axes>"
      ]
     },
     "metadata": {
      "needs_background": "light"
     },
     "output_type": "display_data"
    }
   ],
   "source": [
    "plt.plot(history.history['accuracy'])\n",
    "plt.plot(history.history['val_accuracy'])\n",
    "plt.title('model accuracy')\n",
    "plt.ylabel('accuracy')\n",
    "plt.xlabel('epoch')\n",
    "plt.legend(['train', 'val'], loc='lower right')\n",
    "plt.savefig(\"pre_15pochs_acc.jpg\")\n",
    "plt.show()\n",
    "\n",
    "plt.plot(history.history['loss'])\n",
    "plt.plot(history.history['val_loss'])\n",
    "plt.title('model loss')\n",
    "plt.ylabel('loss')\n",
    "plt.xlabel('epoch')\n",
    "plt.legend(['train', 'val'], loc='upper right')\n",
    "plt.savefig(\"pre_15pochs_loss.jpg\")\n",
    "plt.show()"
   ]
  },
  {
   "cell_type": "code",
   "execution_count": null,
   "metadata": {},
   "outputs": [],
   "source": []
  }
 ],
 "metadata": {
  "kernelspec": {
   "display_name": "jupyterenv",
   "language": "python3",
   "name": "jupyterenv"
  },
  "language_info": {
   "codemirror_mode": {
    "name": "ipython",
    "version": 3
   },
   "file_extension": ".py",
   "mimetype": "text/x-python",
   "name": "python",
   "nbconvert_exporter": "python",
   "pygments_lexer": "ipython3",
   "version": "3.6.9"
  }
 },
 "nbformat": 4,
 "nbformat_minor": 2
}
