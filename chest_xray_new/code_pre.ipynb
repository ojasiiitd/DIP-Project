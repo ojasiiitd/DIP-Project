{
 "cells": [
  {
   "cell_type": "markdown",
   "metadata": {},
   "source": [
    "## Importing required libraries"
   ]
  },
  {
   "cell_type": "code",
   "execution_count": 1,
   "metadata": {},
   "outputs": [],
   "source": [
    "import os\n",
    "import cv2\n",
    "import numpy as np\n",
    "import pandas as pd\n",
    "import matplotlib.pyplot as plt\n",
    "import tensorflow as tf\n",
    "from keras.models import Sequential\n",
    "from keras.layers import Dense , Conv2D , MaxPooling2D , AveragePooling2D , Flatten , Dropout , BatchNormalization\n",
    "from keras.preprocessing.image import ImageDataGenerator , load_img , img_to_array\n",
    "from keras import backend"
   ]
  },
  {
   "cell_type": "code",
   "execution_count": 2,
   "metadata": {},
   "outputs": [],
   "source": [
    "train_path = \"train_pre/\"\n",
    "val_path = \"val_pre/\"\n",
    "test_path = \"test_pre/\"\n",
    "\n",
    "image_w = 128\n",
    "image_h = 128\n",
    "stride = (3,3)\n",
    "pool = (2,2)\n",
    "batch_size = 100\n",
    "if backend.image_data_format() == \"channels_first\":\n",
    "    input_shape = (3 , image_w , image_h)\n",
    "else:\n",
    "    input_shape = (image_w , image_h , 3)"
   ]
  },
  {
   "cell_type": "markdown",
   "metadata": {},
   "source": [
    "## Training image augmentation and generation"
   ]
  },
  {
   "cell_type": "code",
   "execution_count": 3,
   "metadata": {},
   "outputs": [
    {
     "name": "stdout",
     "output_type": "stream",
     "text": [
      "Found 1600 images belonging to 2 classes.\n"
     ]
    },
    {
     "data": {
      "text/plain": [
       "{'NORMAL': 0, 'PNEUMONIA': 1}"
      ]
     },
     "execution_count": 3,
     "metadata": {},
     "output_type": "execute_result"
    }
   ],
   "source": [
    "train_datagen = ImageDataGenerator(\n",
    "    rescale=1./255,\n",
    "    rotation_range=10,\n",
    "    zoom_range=0.2,\n",
    "    shear_range=0.2,\n",
    "    horizontal_flip=True\n",
    ")\n",
    "train_generator = train_datagen.flow_from_directory(\n",
    "    train_path,\n",
    "    target_size=(image_w , image_h),\n",
    "    batch_size=batch_size,\n",
    "    class_mode=\"binary\"\n",
    ")\n",
    "train_generator.class_indices"
   ]
  },
  {
   "cell_type": "code",
   "execution_count": 4,
   "metadata": {},
   "outputs": [
    {
     "name": "stdout",
     "output_type": "stream",
     "text": [
      "Found 16 images belonging to 2 classes.\n"
     ]
    },
    {
     "data": {
      "text/plain": [
       "{'NORMAL': 0, 'PNEUMONIA': 1}"
      ]
     },
     "execution_count": 4,
     "metadata": {},
     "output_type": "execute_result"
    }
   ],
   "source": [
    "val_datagen = ImageDataGenerator(rescale=1./255)\n",
    "\n",
    "val_generator = val_datagen.flow_from_directory(\n",
    "    val_path,\n",
    "    target_size=(image_w , image_h),\n",
    "    batch_size=batch_size,\n",
    "    class_mode=\"binary\"\n",
    ")\n",
    "val_generator.class_indices"
   ]
  },
  {
   "cell_type": "markdown",
   "metadata": {},
   "source": [
    "## Testing image generation"
   ]
  },
  {
   "cell_type": "code",
   "execution_count": 5,
   "metadata": {},
   "outputs": [
    {
     "name": "stdout",
     "output_type": "stream",
     "text": [
      "Found 350 images belonging to 2 classes.\n"
     ]
    },
    {
     "data": {
      "text/plain": [
       "{'NORMAL': 0, 'PNEUMONIA': 1}"
      ]
     },
     "execution_count": 5,
     "metadata": {},
     "output_type": "execute_result"
    }
   ],
   "source": [
    "test_datagen = ImageDataGenerator(rescale=1./255)\n",
    "\n",
    "test_generator = test_datagen.flow_from_directory(\n",
    "    test_path,\n",
    "    target_size=(image_w , image_h),\n",
    "    batch_size=batch_size,\n",
    "    class_mode=\"binary\"\n",
    ")\n",
    "test_generator.class_indices"
   ]
  },
  {
   "cell_type": "markdown",
   "metadata": {},
   "source": [
    "## Creating the deep learning model"
   ]
  },
  {
   "cell_type": "code",
   "execution_count": 6,
   "metadata": {},
   "outputs": [
    {
     "name": "stdout",
     "output_type": "stream",
     "text": [
      "Model: \"sequential\"\n",
      "_________________________________________________________________\n",
      "Layer (type)                 Output Shape              Param #   \n",
      "=================================================================\n",
      "conv2d (Conv2D)              (None, 128, 128, 32)      896       \n",
      "_________________________________________________________________\n",
      "max_pooling2d (MaxPooling2D) (None, 64, 64, 32)        0         \n",
      "_________________________________________________________________\n",
      "conv2d_1 (Conv2D)            (None, 64, 64, 64)        18496     \n",
      "_________________________________________________________________\n",
      "max_pooling2d_1 (MaxPooling2 (None, 32, 32, 64)        0         \n",
      "_________________________________________________________________\n",
      "conv2d_2 (Conv2D)            (None, 32, 32, 128)       73856     \n",
      "_________________________________________________________________\n",
      "max_pooling2d_2 (MaxPooling2 (None, 16, 16, 128)       0         \n",
      "_________________________________________________________________\n",
      "conv2d_3 (Conv2D)            (None, 16, 16, 128)       147584    \n",
      "_________________________________________________________________\n",
      "max_pooling2d_3 (MaxPooling2 (None, 8, 8, 128)         0         \n",
      "_________________________________________________________________\n",
      "flatten (Flatten)            (None, 8192)              0         \n",
      "_________________________________________________________________\n",
      "dropout (Dropout)            (None, 8192)              0         \n",
      "_________________________________________________________________\n",
      "dense (Dense)                (None, 512)               4194816   \n",
      "_________________________________________________________________\n",
      "dense_1 (Dense)              (None, 1)                 513       \n",
      "=================================================================\n",
      "Total params: 4,436,161\n",
      "Trainable params: 4,436,161\n",
      "Non-trainable params: 0\n",
      "_________________________________________________________________\n"
     ]
    }
   ],
   "source": [
    "model = Sequential()\n",
    "\n",
    "model.add( Conv2D(32 , stride , padding=\"same\" , activation=\"relu\" , input_shape=input_shape) )\n",
    "model.add( MaxPooling2D(pool_size=pool) )\n",
    "\n",
    "model.add( Conv2D(64 , stride , padding=\"same\" , activation=\"relu\") )\n",
    "model.add( MaxPooling2D(pool_size=pool) )\n",
    "\n",
    "model.add( Conv2D(128 , stride , padding=\"same\" , activation=\"relu\") )\n",
    "model.add( MaxPooling2D(pool_size=pool) )\n",
    "\n",
    "model.add( Conv2D(128 , stride , padding=\"same\" , activation=\"relu\") )\n",
    "model.add( MaxPooling2D(pool_size=pool) )\n",
    "\n",
    "model.add( Flatten() )\n",
    "\n",
    "model.add( Dropout(.5) )\n",
    "\n",
    "model.add( Dense(512 , activation=\"relu\") )\n",
    "\n",
    "model.add( Dense(1 , activation=\"sigmoid\") )\n",
    "\n",
    "model.compile(optimizer=\"rmsprop\" , loss=\"binary_crossentropy\" , metrics=[\"accuracy\"])\n",
    "\n",
    "model.summary()"
   ]
  },
  {
   "cell_type": "markdown",
   "metadata": {},
   "source": [
    "## Fitting training data (batch size = 100)"
   ]
  },
  {
   "cell_type": "code",
   "execution_count": null,
   "metadata": {
    "scrolled": true
   },
   "outputs": [
    {
     "name": "stdout",
     "output_type": "stream",
     "text": [
      "WARNING:tensorflow:From <ipython-input-7-1cd6cf9ef7c8>:4: Model.fit_generator (from tensorflow.python.keras.engine.training) is deprecated and will be removed in a future version.\n",
      "Instructions for updating:\n",
      "Please use Model.fit, which supports generators.\n",
      "Epoch 1/50\n",
      "16/16 [==============================] - 47s 3s/step - loss: 0.8886 - accuracy: 0.6081 - val_loss: 0.4790 - val_accuracy: 0.7514\n",
      "Epoch 2/50\n",
      "16/16 [==============================] - 41s 3s/step - loss: 0.3635 - accuracy: 0.8544 - val_loss: 0.7669 - val_accuracy: 0.7229\n",
      "Epoch 3/50\n",
      "16/16 [==============================] - 39s 2s/step - loss: 0.3088 - accuracy: 0.8856 - val_loss: 0.4818 - val_accuracy: 0.8000\n",
      "Epoch 4/50\n",
      "16/16 [==============================] - 50s 3s/step - loss: 0.2595 - accuracy: 0.9019 - val_loss: 0.5216 - val_accuracy: 0.8457\n",
      "Epoch 5/50\n",
      "16/16 [==============================] - 46s 3s/step - loss: 0.2724 - accuracy: 0.9038 - val_loss: 0.4588 - val_accuracy: 0.8543\n",
      "Epoch 6/50\n",
      "16/16 [==============================] - 55s 3s/step - loss: 0.2178 - accuracy: 0.9231 - val_loss: 0.6278 - val_accuracy: 0.7971\n",
      "Epoch 7/50\n",
      "16/16 [==============================] - 65s 4s/step - loss: 0.2418 - accuracy: 0.9169 - val_loss: 0.3978 - val_accuracy: 0.8514\n",
      "Epoch 8/50\n",
      "16/16 [==============================] - 44s 3s/step - loss: 0.2123 - accuracy: 0.9244 - val_loss: 0.4475 - val_accuracy: 0.8371\n",
      "Epoch 9/50\n",
      "16/16 [==============================] - 43s 3s/step - loss: 0.2082 - accuracy: 0.9237 - val_loss: 0.4326 - val_accuracy: 0.8629\n",
      "Epoch 10/50\n",
      "16/16 [==============================] - 66s 4s/step - loss: 0.1846 - accuracy: 0.9319 - val_loss: 0.4772 - val_accuracy: 0.8486\n",
      "Epoch 11/50\n"
     ]
    }
   ],
   "source": [
    "history = model.fit_generator(\n",
    "    train_generator,\n",
    "    epochs=50,\n",
    "    validation_data=test_generator,\n",
    ")"
   ]
  },
  {
   "cell_type": "code",
   "execution_count": 13,
   "metadata": {
    "scrolled": true
   },
   "outputs": [
    {
     "name": "stdout",
     "output_type": "stream",
     "text": [
      "WARNING:tensorflow:From <ipython-input-13-c274a446cb83>:1: Model.evaluate_generator (from tensorflow.python.keras.engine.training) is deprecated and will be removed in a future version.\n",
      "Instructions for updating:\n",
      "Please use Model.evaluate, which supports generators.\n",
      "4/4 [==============================] - 3s 758ms/step - loss: 0.6030 - accuracy: 0.8600\n"
     ]
    },
    {
     "data": {
      "text/plain": [
       "(0.603015661239624, 0.8600000143051147)"
      ]
     },
     "execution_count": 13,
     "metadata": {},
     "output_type": "execute_result"
    }
   ],
   "source": [
    "loss, acc = model.evaluate_generator(test_generator , verbose=1)\n",
    "# model.save(\"unsharp_10epochs.h5\")\n",
    "loss , acc"
   ]
  },
  {
   "cell_type": "markdown",
   "metadata": {},
   "source": [
    "## Plotting accuracy and loss"
   ]
  },
  {
   "cell_type": "code",
   "execution_count": 14,
   "metadata": {
    "scrolled": true
   },
   "outputs": [
    {
     "data": {
      "image/png": "[encoded data removed]",
      "text/plain": [
       "<Figure size 432x288 with 1 Axes>"
      ]
     },
     "metadata": {
      "needs_background": "light"
     },
     "output_type": "display_data"
    },
    {
     "data": {
      "image/png": "[encoded data removed]",
      "text/plain": [
       "<Figure size 432x288 with 1 Axes>"
      ]
     },
     "metadata": {
      "needs_background": "light"
     },
     "output_type": "display_data"
    }
   ],
   "source": [
    "plt.plot(history.history['accuracy'])\n",
    "plt.plot(history.history['val_accuracy'])\n",
    "plt.title('model accuracy')\n",
    "plt.ylabel('accuracy')\n",
    "plt.xlabel('epoch')\n",
    "plt.legend(['train', 'val'], loc='lower right')\n",
    "plt.savefig(\"pre_15pochs_acc.jpg\")\n",
    "plt.show()\n",
    "\n",
    "plt.plot(history.history['loss'])\n",
    "plt.plot(history.history['val_loss'])\n",
    "plt.title('model loss')\n",
    "plt.ylabel('loss')\n",
    "plt.xlabel('epoch')\n",
    "plt.legend(['train', 'val'], loc='upper right')\n",
    "plt.savefig(\"pre_15pochs_loss.jpg\")\n",
    "plt.show()"
   ]
  }
 ],
 "metadata": {
  "kernelspec": {
   "display_name": "jupyterenv",
   "language": "python3",
   "name": "jupyterenv"
  },
  "language_info": {
   "codemirror_mode": {
    "name": "ipython",
    "version": 3
   },
   "file_extension": ".py",
   "mimetype": "text/x-python",
   "name": "python",
   "nbconvert_exporter": "python",
   "pygments_lexer": "ipython3",
   "version": "3.6.9"
  }
 },
 "nbformat": 4,
 "nbformat_minor": 2
}
