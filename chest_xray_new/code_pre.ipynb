{
 "cells": [
  {
   "cell_type": "code",
   "execution_count": 1,
   "metadata": {},
   "outputs": [],
   "source": [
    "import os\n",
    "import cv2\n",
    "import numpy as np\n",
    "import pandas as pd\n",
    "import matplotlib.pyplot as plt\n",
    "import tensorflow as tf\n",
    "from keras.models import Sequential\n",
    "from keras.layers import Dense , Conv2D , MaxPooling2D , AveragePooling2D , Flatten , Dropout , BatchNormalization\n",
    "from keras.preprocessing.image import ImageDataGenerator , load_img , img_to_array\n",
    "from keras import backend"
   ]
  },
  {
   "cell_type": "code",
   "execution_count": 2,
   "metadata": {},
   "outputs": [],
   "source": [
    "train_path = \"train_pre/\"\n",
    "val_path = \"val_pre/\"\n",
    "test_path = \"test_pre/\"\n",
    "\n",
    "image_w = 128\n",
    "image_h = 128\n",
    "stride = (3,3)\n",
    "pool = (2,2)\n",
    "batch_size = 100\n",
    "if backend.image_data_format() == \"channels_first\":\n",
    "    input_shape = (3 , image_w , image_h)\n",
    "else:\n",
    "    input_shape = (image_w , image_h , 3)"
   ]
  },
  {
   "cell_type": "code",
   "execution_count": 3,
   "metadata": {},
   "outputs": [],
   "source": [
    "train_datagen = ImageDataGenerator(\n",
    "    rescale=1./255,\n",
    "    rotation_range=30,\n",
    "    zoom_range=0.2,\n",
    "    shear_range=0.2,\n",
    "    width_shift_range=0.2,\n",
    "    height_shift_range=0.2,\n",
    "    horizontal_flip=True\n",
    ")"
   ]
  },
  {
   "cell_type": "code",
   "execution_count": 4,
   "metadata": {},
   "outputs": [
    {
     "name": "stdout",
     "output_type": "stream",
     "text": [
      "Found 1600 images belonging to 2 classes.\n"
     ]
    },
    {
     "data": {
      "text/plain": [
       "{'NORMAL': 0, 'PNEUMONIA': 1}"
      ]
     },
     "execution_count": 4,
     "metadata": {},
     "output_type": "execute_result"
    }
   ],
   "source": [
    "train_generator = train_datagen.flow_from_directory(\n",
    "    train_path,\n",
    "    target_size=(image_w , image_h),\n",
    "    batch_size=batch_size,\n",
    "    class_mode=\"binary\"\n",
    ")\n",
    "train_generator.class_indices"
   ]
  },
  {
   "cell_type": "code",
   "execution_count": 5,
   "metadata": {},
   "outputs": [
    {
     "name": "stdout",
     "output_type": "stream",
     "text": [
      "Found 16 images belonging to 2 classes.\n"
     ]
    },
    {
     "data": {
      "text/plain": [
       "{'NORMAL': 0, 'PNEUMONIA': 1}"
      ]
     },
     "execution_count": 5,
     "metadata": {},
     "output_type": "execute_result"
    }
   ],
   "source": [
    "val_datagen = ImageDataGenerator(rescale=1./255)\n",
    "\n",
    "val_generator = val_datagen.flow_from_directory(\n",
    "    val_path,\n",
    "    target_size=(image_w , image_h),\n",
    "    batch_size=batch_size,\n",
    "    class_mode=\"binary\"\n",
    ")\n",
    "val_generator.class_indices"
   ]
  },
  {
   "cell_type": "code",
   "execution_count": 6,
   "metadata": {},
   "outputs": [
    {
     "name": "stdout",
     "output_type": "stream",
     "text": [
      "Found 350 images belonging to 2 classes.\n"
     ]
    },
    {
     "data": {
      "text/plain": [
       "{'NORMAL': 0, 'PNEUMONIA': 1}"
      ]
     },
     "execution_count": 6,
     "metadata": {},
     "output_type": "execute_result"
    }
   ],
   "source": [
    "test_datagen = ImageDataGenerator(rescale=1./255)\n",
    "\n",
    "test_generator = test_datagen.flow_from_directory(\n",
    "    test_path,\n",
    "    target_size=(image_w , image_h),\n",
    "    batch_size=batch_size,\n",
    "    class_mode=\"binary\"\n",
    ")\n",
    "test_generator.class_indices"
   ]
  },
  {
   "cell_type": "code",
   "execution_count": 7,
   "metadata": {},
   "outputs": [
    {
     "name": "stdout",
     "output_type": "stream",
     "text": [
      "Model: \"sequential\"\n",
      "_________________________________________________________________\n",
      "Layer (type)                 Output Shape              Param #   \n",
      "=================================================================\n",
      "conv2d (Conv2D)              (None, 128, 128, 32)      896       \n",
      "_________________________________________________________________\n",
      "max_pooling2d (MaxPooling2D) (None, 64, 64, 32)        0         \n",
      "_________________________________________________________________\n",
      "conv2d_1 (Conv2D)            (None, 64, 64, 64)        18496     \n",
      "_________________________________________________________________\n",
      "max_pooling2d_1 (MaxPooling2 (None, 32, 32, 64)        0         \n",
      "_________________________________________________________________\n",
      "conv2d_2 (Conv2D)            (None, 32, 32, 128)       73856     \n",
      "_________________________________________________________________\n",
      "max_pooling2d_2 (MaxPooling2 (None, 16, 16, 128)       0         \n",
      "_________________________________________________________________\n",
      "conv2d_3 (Conv2D)            (None, 16, 16, 128)       147584    \n",
      "_________________________________________________________________\n",
      "max_pooling2d_3 (MaxPooling2 (None, 8, 8, 128)         0         \n",
      "_________________________________________________________________\n",
      "flatten (Flatten)            (None, 8192)              0         \n",
      "_________________________________________________________________\n",
      "dropout (Dropout)            (None, 8192)              0         \n",
      "_________________________________________________________________\n",
      "dense (Dense)                (None, 512)               4194816   \n",
      "_________________________________________________________________\n",
      "dense_1 (Dense)              (None, 1)                 513       \n",
      "=================================================================\n",
      "Total params: 4,436,161\n",
      "Trainable params: 4,436,161\n",
      "Non-trainable params: 0\n",
      "_________________________________________________________________\n"
     ]
    }
   ],
   "source": [
    "model = Sequential()\n",
    "\n",
    "model.add( Conv2D(32 , stride , padding=\"same\" , activation=\"relu\" , input_shape=input_shape) )\n",
    "model.add( MaxPooling2D(pool_size=pool) )\n",
    "\n",
    "model.add( Conv2D(64 , stride , padding=\"same\" , activation=\"relu\") )\n",
    "model.add( MaxPooling2D(pool_size=pool) )\n",
    "\n",
    "model.add( Conv2D(128 , stride , padding=\"same\" , activation=\"relu\") )\n",
    "model.add( MaxPooling2D(pool_size=pool) )\n",
    "\n",
    "model.add( Conv2D(128 , stride , padding=\"same\" , activation=\"relu\") )\n",
    "model.add( MaxPooling2D(pool_size=pool) )\n",
    "\n",
    "model.add( Flatten() )\n",
    "\n",
    "model.add( Dropout(.5) )\n",
    "\n",
    "model.add( Dense(512 , activation=\"relu\") )\n",
    "\n",
    "model.add( Dense(1 , activation=\"sigmoid\") )\n",
    "\n",
    "model.compile(optimizer=\"rmsprop\" , loss=\"binary_crossentropy\" , metrics=[\"accuracy\"])\n",
    "\n",
    "model.summary()"
   ]
  },
  {
   "cell_type": "code",
   "execution_count": 8,
   "metadata": {
    "scrolled": false
   },
   "outputs": [
    {
     "name": "stdout",
     "output_type": "stream",
     "text": [
      "WARNING:tensorflow:From <ipython-input-8-1cd6cf9ef7c8>:4: Model.fit_generator (from tensorflow.python.keras.engine.training) is deprecated and will be removed in a future version.\n",
      "Instructions for updating:\n",
      "Please use Model.fit, which supports generators.\n",
      "Epoch 1/50\n",
      "16/16 [==============================] - 50s 3s/step - loss: 0.7968 - accuracy: 0.5825 - val_loss: 0.5562 - val_accuracy: 0.7143\n",
      "Epoch 2/50\n",
      "16/16 [==============================] - 56s 4s/step - loss: 0.6128 - accuracy: 0.6594 - val_loss: 0.6196 - val_accuracy: 0.7000\n",
      "Epoch 3/50\n",
      "16/16 [==============================] - 51s 3s/step - loss: 0.5763 - accuracy: 0.7013 - val_loss: 0.4487 - val_accuracy: 0.7400\n",
      "Epoch 4/50\n",
      "16/16 [==============================] - 62s 4s/step - loss: 0.4203 - accuracy: 0.8163 - val_loss: 0.4784 - val_accuracy: 0.8086\n",
      "Epoch 5/50\n",
      "16/16 [==============================] - 45s 3s/step - loss: 0.4271 - accuracy: 0.8306 - val_loss: 1.7683 - val_accuracy: 0.7171\n",
      "Epoch 6/50\n",
      "16/16 [==============================] - 60s 4s/step - loss: 0.3868 - accuracy: 0.8325 - val_loss: 0.5341 - val_accuracy: 0.7829\n",
      "Epoch 7/50\n",
      "16/16 [==============================] - 52s 3s/step - loss: 0.3390 - accuracy: 0.8694 - val_loss: 0.7888 - val_accuracy: 0.7486\n",
      "Epoch 8/50\n",
      "16/16 [==============================] - 44s 3s/step - loss: 0.3628 - accuracy: 0.8556 - val_loss: 0.7281 - val_accuracy: 0.7371\n",
      "Epoch 9/50\n",
      "16/16 [==============================] - 44s 3s/step - loss: 0.3482 - accuracy: 0.8575 - val_loss: 0.4507 - val_accuracy: 0.8457\n",
      "Epoch 10/50\n",
      "16/16 [==============================] - 45s 3s/step - loss: 0.3434 - accuracy: 0.8562 - val_loss: 0.7462 - val_accuracy: 0.7371\n",
      "Epoch 11/50\n",
      "16/16 [==============================] - 44s 3s/step - loss: 0.2843 - accuracy: 0.8931 - val_loss: 0.5702 - val_accuracy: 0.8486\n",
      "Epoch 12/50\n",
      "16/16 [==============================] - 45s 3s/step - loss: 0.3149 - accuracy: 0.8806 - val_loss: 0.4441 - val_accuracy: 0.8486\n",
      "Epoch 13/50\n",
      "16/16 [==============================] - 44s 3s/step - loss: 0.3566 - accuracy: 0.8631 - val_loss: 0.4959 - val_accuracy: 0.8086\n",
      "Epoch 14/50\n",
      "16/16 [==============================] - 44s 3s/step - loss: 0.2666 - accuracy: 0.8956 - val_loss: 0.4512 - val_accuracy: 0.8543\n",
      "Epoch 15/50\n",
      "16/16 [==============================] - 44s 3s/step - loss: 0.2610 - accuracy: 0.8981 - val_loss: 0.5324 - val_accuracy: 0.8000\n",
      "Epoch 16/50\n",
      "16/16 [==============================] - 45s 3s/step - loss: 0.2651 - accuracy: 0.9025 - val_loss: 0.5259 - val_accuracy: 0.8571\n",
      "Epoch 17/50\n",
      "16/16 [==============================] - 45s 3s/step - loss: 0.3239 - accuracy: 0.8756 - val_loss: 0.4772 - val_accuracy: 0.8571\n",
      "Epoch 18/50\n",
      "16/16 [==============================] - 44s 3s/step - loss: 0.2349 - accuracy: 0.9137 - val_loss: 0.4372 - val_accuracy: 0.8657\n",
      "Epoch 19/50\n",
      "16/16 [==============================] - 44s 3s/step - loss: 0.2271 - accuracy: 0.9150 - val_loss: 0.5440 - val_accuracy: 0.8314\n",
      "Epoch 20/50\n",
      "16/16 [==============================] - 45s 3s/step - loss: 0.2748 - accuracy: 0.9075 - val_loss: 0.6463 - val_accuracy: 0.8371\n",
      "Epoch 21/50\n",
      "16/16 [==============================] - 44s 3s/step - loss: 0.2556 - accuracy: 0.9000 - val_loss: 0.5000 - val_accuracy: 0.8257\n",
      "Epoch 22/50\n",
      "16/16 [==============================] - 44s 3s/step - loss: 0.2380 - accuracy: 0.9150 - val_loss: 0.5292 - val_accuracy: 0.8514\n",
      "Epoch 23/50\n",
      "16/16 [==============================] - 44s 3s/step - loss: 0.2527 - accuracy: 0.9081 - val_loss: 0.6660 - val_accuracy: 0.7629\n",
      "Epoch 24/50\n",
      "16/16 [==============================] - 44s 3s/step - loss: 0.2084 - accuracy: 0.9331 - val_loss: 0.5473 - val_accuracy: 0.8486\n",
      "Epoch 25/50\n",
      "16/16 [==============================] - 44s 3s/step - loss: 0.2625 - accuracy: 0.8950 - val_loss: 0.5209 - val_accuracy: 0.8571\n",
      "Epoch 26/50\n",
      "16/16 [==============================] - 44s 3s/step - loss: 0.2135 - accuracy: 0.9300 - val_loss: 0.4258 - val_accuracy: 0.8714\n",
      "Epoch 27/50\n",
      "16/16 [==============================] - 44s 3s/step - loss: 0.2408 - accuracy: 0.9156 - val_loss: 0.4570 - val_accuracy: 0.8171\n",
      "Epoch 28/50\n",
      "16/16 [==============================] - 44s 3s/step - loss: 0.2396 - accuracy: 0.9162 - val_loss: 0.4140 - val_accuracy: 0.8657\n",
      "Epoch 29/50\n",
      "16/16 [==============================] - 44s 3s/step - loss: 0.1987 - accuracy: 0.9294 - val_loss: 0.5919 - val_accuracy: 0.8171\n",
      "Epoch 30/50\n",
      "16/16 [==============================] - 44s 3s/step - loss: 0.2463 - accuracy: 0.9187 - val_loss: 0.4652 - val_accuracy: 0.8514\n",
      "Epoch 31/50\n",
      "16/16 [==============================] - 44s 3s/step - loss: 0.2088 - accuracy: 0.9300 - val_loss: 0.5324 - val_accuracy: 0.8514\n",
      "Epoch 32/50\n",
      "16/16 [==============================] - 44s 3s/step - loss: 0.2096 - accuracy: 0.9319 - val_loss: 0.5274 - val_accuracy: 0.8514\n",
      "Epoch 33/50\n",
      "16/16 [==============================] - 45s 3s/step - loss: 0.2253 - accuracy: 0.9219 - val_loss: 0.4953 - val_accuracy: 0.8571\n",
      "Epoch 34/50\n",
      "16/16 [==============================] - 44s 3s/step - loss: 0.1962 - accuracy: 0.9431 - val_loss: 0.5006 - val_accuracy: 0.8371\n",
      "Epoch 35/50\n",
      "16/16 [==============================] - 44s 3s/step - loss: 0.2128 - accuracy: 0.9287 - val_loss: 0.5000 - val_accuracy: 0.7886\n",
      "Epoch 36/50\n",
      "16/16 [==============================] - 44s 3s/step - loss: 0.2142 - accuracy: 0.9300 - val_loss: 0.5529 - val_accuracy: 0.8543\n",
      "Epoch 37/50\n",
      "16/16 [==============================] - 44s 3s/step - loss: 0.2039 - accuracy: 0.9362 - val_loss: 0.6086 - val_accuracy: 0.7714\n",
      "Epoch 38/50\n",
      "16/16 [==============================] - 44s 3s/step - loss: 0.1861 - accuracy: 0.9350 - val_loss: 0.4387 - val_accuracy: 0.8771\n",
      "Epoch 39/50\n",
      "16/16 [==============================] - 44s 3s/step - loss: 0.1953 - accuracy: 0.9406 - val_loss: 0.7306 - val_accuracy: 0.7629\n",
      "Epoch 40/50\n",
      "16/16 [==============================] - 44s 3s/step - loss: 0.2067 - accuracy: 0.9312 - val_loss: 0.8146 - val_accuracy: 0.7600\n",
      "Epoch 41/50\n",
      "16/16 [==============================] - 44s 3s/step - loss: 0.2002 - accuracy: 0.9381 - val_loss: 0.4791 - val_accuracy: 0.8229\n",
      "Epoch 42/50\n",
      "16/16 [==============================] - 44s 3s/step - loss: 0.1864 - accuracy: 0.9413 - val_loss: 0.7374 - val_accuracy: 0.8514\n",
      "Epoch 43/50\n",
      "16/16 [==============================] - 44s 3s/step - loss: 0.1824 - accuracy: 0.9350 - val_loss: 0.6178 - val_accuracy: 0.8371\n",
      "Epoch 44/50\n",
      "16/16 [==============================] - 44s 3s/step - loss: 0.1956 - accuracy: 0.9406 - val_loss: 0.5002 - val_accuracy: 0.8629\n",
      "Epoch 45/50\n",
      "16/16 [==============================] - 44s 3s/step - loss: 0.2105 - accuracy: 0.9256 - val_loss: 0.5798 - val_accuracy: 0.8429\n",
      "Epoch 46/50\n",
      "16/16 [==============================] - 44s 3s/step - loss: 0.1942 - accuracy: 0.9350 - val_loss: 0.6493 - val_accuracy: 0.8514\n",
      "Epoch 47/50\n",
      "16/16 [==============================] - 44s 3s/step - loss: 0.2029 - accuracy: 0.9362 - val_loss: 0.4914 - val_accuracy: 0.8429\n",
      "Epoch 48/50\n",
      "16/16 [==============================] - 44s 3s/step - loss: 0.1885 - accuracy: 0.9362 - val_loss: 0.5736 - val_accuracy: 0.8400\n",
      "Epoch 49/50\n",
      "16/16 [==============================] - 44s 3s/step - loss: 0.1994 - accuracy: 0.9362 - val_loss: 0.4851 - val_accuracy: 0.8229\n",
      "Epoch 50/50\n",
      "16/16 [==============================] - 44s 3s/step - loss: 0.2003 - accuracy: 0.9312 - val_loss: 0.5163 - val_accuracy: 0.8371\n"
     ]
    }
   ],
   "source": [
    "history = model.fit_generator(\n",
    "    train_generator,\n",
    "    epochs=15,\n",
    "    validation_data=test_generator,\n",
    ")"
   ]
  },
  {
   "cell_type": "code",
   "execution_count": 9,
   "metadata": {
    "scrolled": true
   },
   "outputs": [
    {
     "name": "stdout",
     "output_type": "stream",
     "text": [
      "WARNING:tensorflow:From <ipython-input-9-c274a446cb83>:1: Model.evaluate_generator (from tensorflow.python.keras.engine.training) is deprecated and will be removed in a future version.\n",
      "Instructions for updating:\n",
      "Please use Model.evaluate, which supports generators.\n",
      "4/4 [==============================] - 4s 1s/step - loss: 0.5163 - accuracy: 0.8371\n"
     ]
    },
    {
     "data": {
      "text/plain": [
       "(0.5162950754165649, 0.8371428847312927)"
      ]
     },
     "execution_count": 9,
     "metadata": {},
     "output_type": "execute_result"
    }
   ],
   "source": [
    "loss, acc = model.evaluate_generator(test_generator , verbose=1)\n",
    "# model.save(\"unsharp_10epochs.h5\")\n",
    "loss , acc"
   ]
  },
  {
   "cell_type": "code",
   "execution_count": 10,
   "metadata": {
    "scrolled": true
   },
   "outputs": [
    {
     "data": {
      "image/png": "[encoded data removed]",
      "text/plain": [
       "<Figure size 432x288 with 1 Axes>"
      ]
     },
     "metadata": {
      "needs_background": "light"
     },
     "output_type": "display_data"
    },
    {
     "data": {
      "image/png": "[encoded data removed]",
      "text/plain": [
       "<Figure size 432x288 with 1 Axes>"
      ]
     },
     "metadata": {
      "needs_background": "light"
     },
     "output_type": "display_data"
    }
   ],
   "source": [
    "plt.plot(history.history['accuracy'])\n",
    "plt.plot(history.history['val_accuracy'])\n",
    "plt.title('model accuracy')\n",
    "plt.ylabel('accuracy')\n",
    "plt.xlabel('epoch')\n",
    "plt.legend(['train', 'val'], loc='upper left')\n",
    "plt.show()\n",
    "\n",
    "plt.plot(history.history['loss'])\n",
    "plt.plot(history.history['val_loss'])\n",
    "plt.title('model loss')\n",
    "plt.ylabel('loss')\n",
    "plt.xlabel('epoch')\n",
    "plt.legend(['train', 'val'], loc='upper left')\n",
    "plt.show()"
   ]
  },
  {
   "cell_type": "code",
   "execution_count": null,
   "metadata": {},
   "outputs": [],
   "source": []
  }
 ],
 "metadata": {
  "kernelspec": {
   "display_name": "jupyterenv",
   "language": "python3",
   "name": "jupyterenv"
  },
  "language_info": {
   "codemirror_mode": {
    "name": "ipython",
    "version": 3
   },
   "file_extension": ".py",
   "mimetype": "text/x-python",
   "name": "python",
   "nbconvert_exporter": "python",
   "pygments_lexer": "ipython3",
   "version": "3.6.9"
  }
 },
 "nbformat": 4,
 "nbformat_minor": 2
}
