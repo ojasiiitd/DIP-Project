{
 "cells": [
  {
   "cell_type": "code",
   "execution_count": 1,
   "metadata": {},
   "outputs": [],
   "source": [
    "import os\n",
    "import cv2\n",
    "import numpy as np\n",
    "import pandas as pd\n",
    "import matplotlib.pyplot as plt\n",
    "import tensorflow as tf\n",
    "from keras.models import Sequential\n",
    "from keras.layers import Dense , Conv2D , MaxPooling2D , AveragePooling2D , Flatten , Dropout , BatchNormalization\n",
    "from keras.preprocessing.image import ImageDataGenerator , load_img , img_to_array\n",
    "from keras import backend"
   ]
  },
  {
   "cell_type": "code",
   "execution_count": 2,
   "metadata": {},
   "outputs": [],
   "source": [
    "train_path = \"train_pre/\"\n",
    "val_path = \"val_pre/\"\n",
    "test_path = \"test_pre/\"\n",
    "\n",
    "image_w = 128\n",
    "image_h = 128\n",
    "stride = (3,3)\n",
    "pool = (2,2)\n",
    "batch_size = 100\n",
    "if backend.image_data_format() == \"channels_first\":\n",
    "    input_shape = (3 , image_w , image_h)\n",
    "else:\n",
    "    input_shape = (image_w , image_h , 3)"
   ]
  },
  {
   "cell_type": "code",
   "execution_count": 3,
   "metadata": {},
   "outputs": [],
   "source": [
    "train_datagen = ImageDataGenerator(\n",
    "    rescale=1./255,\n",
    "    rotation_range=30,\n",
    "    zoom_range=0.2,\n",
    "    shear_range=0.2,\n",
    "    width_shift_range=0.2,\n",
    "    height_shift_range=0.2,\n",
    "    horizontal_flip=True\n",
    ")"
   ]
  },
  {
   "cell_type": "code",
   "execution_count": 7,
   "metadata": {},
   "outputs": [
    {
     "name": "stdout",
     "output_type": "stream",
     "text": [
      "Found 5216 images belonging to 2 classes.\n"
     ]
    },
    {
     "data": {
      "text/plain": [
       "{'NORMAL': 0, 'PNEUMONIA': 1}"
      ]
     },
     "execution_count": 7,
     "metadata": {},
     "output_type": "execute_result"
    }
   ],
   "source": [
    "train_generator = train_datagen.flow_from_directory(\n",
    "    train_path,\n",
    "    target_size=(image_w , image_h),\n",
    "    batch_size=batch_size,\n",
    "    class_mode=\"binary\"\n",
    ")\n",
    "train_generator.class_indices"
   ]
  },
  {
   "cell_type": "code",
   "execution_count": 5,
   "metadata": {},
   "outputs": [
    {
     "name": "stdout",
     "output_type": "stream",
     "text": [
      "Found 16 images belonging to 2 classes.\n"
     ]
    },
    {
     "data": {
      "text/plain": [
       "{'NORMAL': 0, 'PNEUMONIA': 1}"
      ]
     },
     "execution_count": 5,
     "metadata": {},
     "output_type": "execute_result"
    }
   ],
   "source": [
    "val_datagen = ImageDataGenerator(rescale=1./255)\n",
    "\n",
    "val_generator = val_datagen.flow_from_directory(\n",
    "    val_path,\n",
    "    target_size=(image_w , image_h),\n",
    "    batch_size=batch_size,\n",
    "    class_mode=\"binary\"\n",
    ")\n",
    "val_generator.class_indices"
   ]
  },
  {
   "cell_type": "code",
   "execution_count": 6,
   "metadata": {},
   "outputs": [
    {
     "name": "stdout",
     "output_type": "stream",
     "text": [
      "Found 491 images belonging to 2 classes.\n"
     ]
    },
    {
     "data": {
      "text/plain": [
       "{'NORMAL': 0, 'PNEUMONIA': 1}"
      ]
     },
     "execution_count": 6,
     "metadata": {},
     "output_type": "execute_result"
    }
   ],
   "source": [
    "test_datagen = ImageDataGenerator(rescale=1./255)\n",
    "\n",
    "test_generator = test_datagen.flow_from_directory(\n",
    "    test_path,\n",
    "    target_size=(image_w , image_h),\n",
    "    batch_size=batch_size,\n",
    "    class_mode=\"binary\"\n",
    ")\n",
    "test_generator.class_indices"
   ]
  },
  {
   "cell_type": "code",
   "execution_count": 27,
   "metadata": {},
   "outputs": [
    {
     "name": "stdout",
     "output_type": "stream",
     "text": [
      "Model: \"sequential_1\"\n",
      "_________________________________________________________________\n",
      "Layer (type)                 Output Shape              Param #   \n",
      "=================================================================\n",
      "conv2d_4 (Conv2D)            (None, 200, 200, 32)      896       \n",
      "_________________________________________________________________\n",
      "max_pooling2d_4 (MaxPooling2 (None, 100, 100, 32)      0         \n",
      "_________________________________________________________________\n",
      "conv2d_5 (Conv2D)            (None, 100, 100, 64)      18496     \n",
      "_________________________________________________________________\n",
      "max_pooling2d_5 (MaxPooling2 (None, 50, 50, 64)        0         \n",
      "_________________________________________________________________\n",
      "conv2d_6 (Conv2D)            (None, 50, 50, 128)       73856     \n",
      "_________________________________________________________________\n",
      "max_pooling2d_6 (MaxPooling2 (None, 25, 25, 128)       0         \n",
      "_________________________________________________________________\n",
      "conv2d_7 (Conv2D)            (None, 25, 25, 128)       147584    \n",
      "_________________________________________________________________\n",
      "max_pooling2d_7 (MaxPooling2 (None, 12, 12, 128)       0         \n",
      "_________________________________________________________________\n",
      "flatten_1 (Flatten)          (None, 18432)             0         \n",
      "_________________________________________________________________\n",
      "dropout_1 (Dropout)          (None, 18432)             0         \n",
      "_________________________________________________________________\n",
      "dense_2 (Dense)              (None, 512)               9437696   \n",
      "_________________________________________________________________\n",
      "dense_3 (Dense)              (None, 1)                 513       \n",
      "=================================================================\n",
      "Total params: 9,679,041\n",
      "Trainable params: 9,679,041\n",
      "Non-trainable params: 0\n",
      "_________________________________________________________________\n"
     ]
    }
   ],
   "source": [
    "model = Sequential()\n",
    "\n",
    "model.add( Conv2D(16 , stride , padding=\"same\" , activation=\"relu\" , input_shape=input_shape) )\n",
    "model.add( MaxPooling2D(pool_size=pool) )\n",
    "\n",
    "model.add( Conv2D(32 , stride , padding=\"same\" , activation=\"relu\") )\n",
    "model.add( MaxPooling2D(pool_size=pool) )\n",
    "\n",
    "# model.add( Conv2D(32 , stride , padding=\"same\" , activation=\"relu\" , input_shape=input_shape) )\n",
    "# model.add( MaxPooling2D(pool_size=pool) )\n",
    "\n",
    "# model.add( Conv2D(64 , stride , padding=\"same\" , activation=\"relu\") )\n",
    "# model.add( MaxPooling2D(pool_size=pool) )\n",
    "\n",
    "# model.add( Conv2D(128 , stride , padding=\"same\" , activation=\"relu\") )\n",
    "# model.add( MaxPooling2D(pool_size=pool) )\n",
    "\n",
    "# model.add( Conv2D(128 , stride , padding=\"same\" , activation=\"relu\") )\n",
    "# model.add( MaxPooling2D(pool_size=pool) )\n",
    "\n",
    "model.add( Flatten() )\n",
    "\n",
    "model.add( Dropout(.5) )\n",
    "\n",
    "model.add( Dense(256 , activation=\"relu\") ) #remove\n",
    "\n",
    "# model.add( Dense(512 , activation=\"relu\") )\n",
    "\n",
    "model.add( Dense(1 , activation=\"sigmoid\") )\n",
    "\n",
    "model.compile(optimizer=\"rmsprop\" , loss=\"binary_crossentropy\" , metrics=[\"accuracy\"])\n",
    "\n",
    "model.summary()"
   ]
  },
  {
   "cell_type": "code",
   "execution_count": 28,
   "metadata": {
    "scrolled": true
   },
   "outputs": [
    {
     "name": "stdout",
     "output_type": "stream",
     "text": [
      "Epoch 1/15\n",
      "53/53 [==============================] - 321s 6s/step - loss: 1.0635 - accuracy: 0.7345 - val_loss: 0.5815 - val_accuracy: 0.5000\n",
      "Epoch 2/15\n",
      "53/53 [==============================] - 314s 6s/step - loss: 0.4363 - accuracy: 0.7694 - val_loss: 1.1491 - val_accuracy: 0.5000\n",
      "Epoch 3/15\n",
      "53/53 [==============================] - 256s 5s/step - loss: 0.3886 - accuracy: 0.8119 - val_loss: 0.6349 - val_accuracy: 0.6250\n",
      "Epoch 4/15\n",
      "53/53 [==============================] - 255s 5s/step - loss: 0.3612 - accuracy: 0.8330 - val_loss: 0.6714 - val_accuracy: 0.8125\n",
      "Epoch 5/15\n",
      "53/53 [==============================] - 256s 5s/step - loss: 0.3309 - accuracy: 0.8497 - val_loss: 1.4143 - val_accuracy: 0.5000\n",
      "Epoch 6/15\n",
      "53/53 [==============================] - 255s 5s/step - loss: 0.3182 - accuracy: 0.8602 - val_loss: 0.6278 - val_accuracy: 0.7500\n",
      "Epoch 7/15\n",
      "53/53 [==============================] - 256s 5s/step - loss: 0.3031 - accuracy: 0.8675 - val_loss: 0.4034 - val_accuracy: 0.8750\n",
      "Epoch 8/15\n",
      "53/53 [==============================] - 252s 5s/step - loss: 0.2862 - accuracy: 0.8827 - val_loss: 0.5245 - val_accuracy: 0.8125\n",
      "Epoch 9/15\n",
      "53/53 [==============================] - 253s 5s/step - loss: 0.2777 - accuracy: 0.8831 - val_loss: 0.4931 - val_accuracy: 0.7500\n",
      "Epoch 10/15\n",
      "53/53 [==============================] - 252s 5s/step - loss: 0.2649 - accuracy: 0.8903 - val_loss: 0.3831 - val_accuracy: 0.8125\n",
      "Epoch 11/15\n",
      "53/53 [==============================] - 253s 5s/step - loss: 0.2415 - accuracy: 0.8982 - val_loss: 0.4976 - val_accuracy: 0.8125\n",
      "Epoch 12/15\n",
      "53/53 [==============================] - 252s 5s/step - loss: 0.2627 - accuracy: 0.9005 - val_loss: 0.5041 - val_accuracy: 0.8125\n",
      "Epoch 13/15\n",
      "53/53 [==============================] - 253s 5s/step - loss: 0.2159 - accuracy: 0.9130 - val_loss: 0.4358 - val_accuracy: 0.7500\n",
      "Epoch 14/15\n",
      "53/53 [==============================] - 252s 5s/step - loss: 0.2288 - accuracy: 0.9101 - val_loss: 0.6676 - val_accuracy: 0.8125\n",
      "Epoch 15/15\n",
      "53/53 [==============================] - 252s 5s/step - loss: 0.2168 - accuracy: 0.9172 - val_loss: 0.3672 - val_accuracy: 0.7500\n"
     ]
    }
   ],
   "source": [
    "history = model.fit_generator(\n",
    "    train_generator,\n",
    "    epochs=15,\n",
    "    validation_data=test_generator,\n",
    ")"
   ]
  },
  {
   "cell_type": "code",
   "execution_count": 29,
   "metadata": {
    "scrolled": true
   },
   "outputs": [
    {
     "name": "stdout",
     "output_type": "stream",
     "text": [
      "5/5 [==============================] - 5s 1s/step - loss: 0.2338 - accuracy: 0.9145\n"
     ]
    },
    {
     "data": {
      "text/plain": [
       "(0.23378683626651764, 0.914460301399231)"
      ]
     },
     "execution_count": 29,
     "metadata": {},
     "output_type": "execute_result"
    }
   ],
   "source": [
    "loss, acc = model.evaluate_generator(test_generator , verbose=1)\n",
    "# model.save(\"unsharp_10epochs.h5\")\n",
    "loss , acc"
   ]
  },
  {
   "cell_type": "code",
   "execution_count": 30,
   "metadata": {
    "scrolled": true
   },
   "outputs": [
    {
     "data": {
      "image/png": "[encoded data removed]",
      "text/plain": [
       "<Figure size 432x288 with 1 Axes>"
      ]
     },
     "metadata": {
      "needs_background": "light"
     },
     "output_type": "display_data"
    },
    {
     "data": {
      "image/png": "[encoded data removed]",
      "text/plain": [
       "<Figure size 432x288 with 1 Axes>"
      ]
     },
     "metadata": {
      "needs_background": "light"
     },
     "output_type": "display_data"
    }
   ],
   "source": [
    "plt.plot(history.history['accuracy'])\n",
    "plt.plot(history.history['val_accuracy'])\n",
    "plt.title('model accuracy')\n",
    "plt.ylabel('accuracy')\n",
    "plt.xlabel('epoch')\n",
    "plt.legend(['train', 'val'], loc='upper left')\n",
    "plt.show()\n",
    "\n",
    "plt.plot(history.history['loss'])\n",
    "plt.plot(history.history['val_loss'])\n",
    "plt.title('model loss')\n",
    "plt.ylabel('loss')\n",
    "plt.xlabel('epoch')\n",
    "plt.legend(['train', 'val'], loc='upper left')\n",
    "plt.show()"
   ]
  },
  {
   "cell_type": "code",
   "execution_count": null,
   "metadata": {},
   "outputs": [],
   "source": [
    "# nothing : (0.7438372373580933, 0.682692289352417) (4 epochs)\n",
    "\n",
    "# thresh : (0.4687788188457489, 0.7980769276618958) (4 epochs)\n",
    "    \n",
    "# unsharp : \n",
    "# (0.42874306440353394, 0.7852563858032227) (4 epochs)\n",
    "# (0.5442628264427185, 0.807692289352417) (6 epochs)\n",
    "# (0.47703200578689575, 0.8333333134651184) (8 epochs)\n",
    "# (0.35110974311828613, 0.8814102411270142) (10 epochs)\n",
    "# (0.3481963574886322, 0.8381410241127014) (12 epochs)\n",
    "# (0.3682185709476471, 0.8685897588729858) (14 epochs)"
   ]
  }
 ],
 "metadata": {
  "kernelspec": {
   "display_name": "jupyterenv",
   "language": "python3",
   "name": "jupyterenv"
  },
  "language_info": {
   "codemirror_mode": {
    "name": "ipython",
    "version": 3
   },
   "file_extension": ".py",
   "mimetype": "text/x-python",
   "name": "python",
   "nbconvert_exporter": "python",
   "pygments_lexer": "ipython3",
   "version": "3.6.9"
  }
 },
 "nbformat": 4,
 "nbformat_minor": 2
}
